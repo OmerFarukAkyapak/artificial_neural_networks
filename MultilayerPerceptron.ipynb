{
  "nbformat": 4,
  "nbformat_minor": 0,
  "metadata": {
    "colab": {
      "provenance": []
    },
    "kernelspec": {
      "name": "python3",
      "display_name": "Python 3"
    },
    "language_info": {
      "name": "python"
    },
    "gpuClass": "standard"
  },
  "cells": [
    {
      "cell_type": "code",
      "source": [
        "from google.colab import drive\n",
        "drive.mount(\"/content/drive\")"
      ],
      "metadata": {
        "colab": {
          "base_uri": "https://localhost:8080/"
        },
        "id": "-rahhf5sssBc",
        "outputId": "a1e6d1fb-fc7f-4199-aee4-da580418ba7d"
      },
      "execution_count": null,
      "outputs": [
        {
          "output_type": "stream",
          "name": "stdout",
          "text": [
            "Drive already mounted at /content/drive; to attempt to forcibly remount, call drive.mount(\"/content/drive\", force_remount=True).\n"
          ]
        }
      ]
    },
    {
      "cell_type": "code",
      "execution_count": null,
      "metadata": {
        "id": "TS2jwFI3sM11"
      },
      "outputs": [],
      "source": [
        "import torch\n",
        "import torch.nn as nn\n",
        "import torch.optim as optim\n",
        "import pandas as pd\n",
        "import datetime"
      ]
    },
    {
      "cell_type": "code",
      "source": [
        "torch.cuda.is_available() # gou ile çalışıyor mu?"
      ],
      "metadata": {
        "colab": {
          "base_uri": "https://localhost:8080/"
        },
        "id": "WLfBcTjaAQeF",
        "outputId": "1fb579f2-b9bc-43e1-b10a-1d95fc218863"
      },
      "execution_count": null,
      "outputs": [
        {
          "output_type": "execute_result",
          "data": {
            "text/plain": [
              "False"
            ]
          },
          "metadata": {},
          "execution_count": 3
        }
      ]
    },
    {
      "cell_type": "code",
      "source": [
        "# Get the current date and time\n",
        "firstNow = datetime.datetime.now()\n",
        "\n",
        "# Print the results to the screen\n",
        "print(\"Şu anki tarih ve saat: \", firstNow)\n"
      ],
      "metadata": {
        "colab": {
          "base_uri": "https://localhost:8080/"
        },
        "id": "JTth9gvs40eq",
        "outputId": "4b1b0f3e-b73a-45a2-8e7e-5f605e8c9b34"
      },
      "execution_count": null,
      "outputs": [
        {
          "output_type": "stream",
          "name": "stdout",
          "text": [
            "Şu anki tarih ve saat:  2023-04-08 20:57:30.334055\n"
          ]
        }
      ]
    },
    {
      "cell_type": "code",
      "source": [
        "# Seed ayarlama\n",
        "torch.manual_seed(190401008)\n",
        "# Batch size seçilir\n",
        "batch_size = 16"
      ],
      "metadata": {
        "id": "REx-Me1h2cBp"
      },
      "execution_count": null,
      "outputs": []
    },
    {
      "cell_type": "code",
      "source": [
        "# Veri setini yükleme\n",
        "trainData = pd.read_csv(\"/content/drive/MyDrive/Colab Notebooks/cure_the_princess_train.csv\")\n",
        "\n",
        "# Veri setini yükleme\n",
        "testData = pd.read_csv(\"/content/drive/MyDrive/Colab Notebooks/cure_the_princess_test.csv\")\n",
        "\n",
        "# Veri setini yükleme\n",
        "validationData = pd.read_csv(\"/content/drive/MyDrive/Colab Notebooks/cure_the_princess_validation.csv\")"
      ],
      "metadata": {
        "id": "9824rcIqsi8h"
      },
      "execution_count": null,
      "outputs": []
    },
    {
      "cell_type": "code",
      "source": [
        "trainData.shape, testData.shape, validationData.shape"
      ],
      "metadata": {
        "colab": {
          "base_uri": "https://localhost:8080/"
        },
        "id": "NT35j4rHtZce",
        "outputId": "4169a225-31b4-4cd4-ec19-5258d97e4197"
      },
      "execution_count": null,
      "outputs": [
        {
          "output_type": "execute_result",
          "data": {
            "text/plain": [
              "((1252, 14), (772, 14), (314, 14))"
            ]
          },
          "metadata": {},
          "execution_count": 7
        }
      ]
    },
    {
      "cell_type": "code",
      "source": [
        "from torch.utils.data import DataLoader, TensorDataset\n",
        "\n",
        "# TensorDataset kullanarak train, test ve validation setlerini oluşturuyoruz\n",
        "train_inputs = trainData.drop('Cured', axis=1).values\n",
        "train_labels = trainData['Cured'].values\n",
        "train_dataset = TensorDataset(torch.tensor(train_inputs, dtype=torch.float), torch.tensor(train_labels, dtype=torch.long))\n",
        "\n",
        "val_inputs = validationData.drop('Cured', axis=1).values\n",
        "val_labels = validationData['Cured'].values\n",
        "val_dataset = TensorDataset(torch.tensor(val_inputs, dtype=torch.float), torch.tensor(val_labels, dtype=torch.long))\n",
        "\n",
        "test_inputs = testData.drop('Cured', axis=1).values\n",
        "test_labels = testData['Cured'].values\n",
        "test_dataset = TensorDataset(torch.tensor(test_inputs, dtype=torch.float), torch.tensor(test_labels, dtype=torch.long))\n",
        "\n",
        "\n",
        "# DataLoader kullanarak train, test ve validation setlerini batch'ler halinde modele veriyoruz\n",
        "train_loader = DataLoader(train_dataset, batch_size=batch_size, shuffle=True)\n",
        "test_loader = DataLoader(test_dataset, batch_size=batch_size)\n",
        "val_loader = DataLoader(val_dataset, batch_size=batch_size)"
      ],
      "metadata": {
        "id": "YJKR-H9iKosM"
      },
      "execution_count": null,
      "outputs": []
    },
    {
      "cell_type": "code",
      "source": [
        "# Define MLP class\n",
        "class MLP(nn.Module):\n",
        "    def __init__(self, input_size, hidden_size1, hidden_size2, output_size):\n",
        "        super(MLP, self).__init__()\n",
        "        self.hidden1 = nn.Linear(input_size, hidden_size1) # 1st hidden layer\n",
        "        self.hidden2 = nn.Linear(hidden_size1, hidden_size2) # 2nd hidden layer\n",
        "        self.output = nn.Linear(hidden_size2, output_size) # output layer\n",
        "\n",
        "    def forward(self, x):\n",
        "        x = torch.relu(self.hidden1(x)) # Apply ReLU activation function in the 1st hidden layer\n",
        "        x = torch.relu(self.hidden2(x)) # Apply ReLU activation function in the 2nd hidden layer\n",
        "        x = torch.sigmoid(self.output(x)) # Apply sigmoid activation function in the output layer\n",
        "        return x\n"
      ],
      "metadata": {
        "id": "ScxJ8_1Y2dW0"
      },
      "execution_count": null,
      "outputs": []
    },
    {
      "cell_type": "code",
      "source": [
        "input_size = len(trainData.columns) - 1 # Number of input features, excluding the target column\n",
        "hidden_size1 = 100 # Number of units in the 1st hidden layer\n",
        "hidden_size2 = 50 # Number of units in the 2nd hidden layer\n",
        "output_size = 2 # Number of output units (for binary classification)\n",
        "device = torch.device('cuda' if torch.cuda.is_available() else 'cpu') # Use GPU if available, else use CPU\n",
        "\n",
        "# Define the MLP model\n",
        "model = MLP(input_size, hidden_size1, hidden_size2, output_size)\n",
        "# Send the model to the device (GPU or CPU)\n",
        "model = model.to(device)\n"
      ],
      "metadata": {
        "id": "xx8gnFltHkd2"
      },
      "execution_count": null,
      "outputs": []
    },
    {
      "cell_type": "code",
      "source": [
        "input_size"
      ],
      "metadata": {
        "colab": {
          "base_uri": "https://localhost:8080/"
        },
        "id": "Aef3qHCyPGa8",
        "outputId": "0bb9eb39-28dc-471a-eb62-52c8cf472c8e"
      },
      "execution_count": null,
      "outputs": [
        {
          "output_type": "execute_result",
          "data": {
            "text/plain": [
              "13"
            ]
          },
          "metadata": {},
          "execution_count": 11
        }
      ]
    },
    {
      "cell_type": "code",
      "source": [
        "# Define the Cross Entropy loss function\n",
        "criterion = nn.CrossEntropyLoss()\n",
        "\n",
        "# Define the SGD optimizer\n",
        "# We can adjust the learning rate to prevent overfitting\n",
        "learning_rate = 0.01\n",
        "optimizer = optim.SGD(model.parameters(), lr=learning_rate)"
      ],
      "metadata": {
        "id": "0lgAgGXQ2mlO"
      },
      "execution_count": null,
      "outputs": []
    },
    {
      "cell_type": "code",
      "source": [
        "num_epochs = 50\n",
        "train_loss_list = []\n",
        "validation_loss_list = []\n",
        "patience=5\n",
        "best_val_loss = None  # define best_val_loss \n",
        "lastStop=0\n",
        "\n",
        "for epoch in range(num_epochs):\n",
        "\n",
        "    # Train the model\n",
        "    model.train()  # train mode on\n",
        "    train_loss = 0.0\n",
        "    correct = 0\n",
        "    total = 0\n",
        "    for i, (inputs, labels) in enumerate(train_loader):\n",
        "        # Move data to device\n",
        "        inputs = inputs.to(device)\n",
        "        labels = labels.to(device)\n",
        "\n",
        "        # Forward pass\n",
        "        outputs = model(inputs)\n",
        "        loss = criterion(outputs, labels)\n",
        "\n",
        "        # Backward and optimize\n",
        "        optimizer.zero_grad()\n",
        "        loss.backward()\n",
        "        optimizer.step()\n",
        "\n",
        "        train_loss += loss.item() * inputs.size(0)\n",
        "        _, predicted = torch.max(outputs.data, 1)\n",
        "        total += labels.size(0)\n",
        "        \n",
        "        correct += (predicted == labels).sum().item()\n",
        "\n",
        "        # Print loss every few iterations\n",
        "        if (i + 1) % 100 == 0:\n",
        "            print(f\"Epoch [{epoch+1}/{num_epochs}],  Loss: {loss.item():.4f}\")\n",
        "        \n",
        "\n",
        "    train_loss_list.append(train_loss / len(train_loader.dataset))  # add list for figure\n",
        "    #train_loss_list.append(loss.item())\n",
        "    train_loss /= len(train_loader.dataset)\n",
        "    train_acc = 100 * correct / total\n",
        "\n",
        "    \n",
        "\n",
        "    # Evaluate the model on validation set every epoch\n",
        "    model.eval()\n",
        "    val_loss=0.0\n",
        "    with torch.no_grad():\n",
        "        correct = 0\n",
        "        total = 0\n",
        "        for inputs, labels in val_loader:\n",
        "            # Move data to device\n",
        "            inputs = inputs.to(device)\n",
        "            labels = labels.to(device)\n",
        "\n",
        "            # Forward pass and calculate accuracy\n",
        "            outputs = model(inputs)\n",
        "            loss = criterion(outputs, labels)\n",
        "            # predicted = torch.round(outputs)\n",
        "            # predicted = predicted.view(-1)  Make output one-dimensional\n",
        "            val_loss += loss.item() * inputs.size(0)  # Collect Losses\n",
        "            _, predicted = torch.max(outputs.data, 1)\n",
        "            total += labels.size(0)\n",
        "            correct += (predicted == labels).sum().item()\n",
        "\n",
        "        validation_loss_list.append(val_loss / len(val_loader.dataset))\n",
        "        val_loss/= len(val_loader.dataset) # Calculate the average by dividing the losses by the number of data\n",
        "        val_acc = correct / total\n",
        "         # print(f\"Validation accuracy after epoch {epoch+1}: {val_acc:.4f}\")\n",
        "\n",
        "\n",
        "        #EarlyStopping\n",
        "        val_score=val_loss\n",
        "\n",
        "        if best_val_loss is None:\n",
        "          patience_counter=0\n",
        "          best_val_loss=val_score       # Keep patience length in memory\n",
        "          torch.save(model.state_dict(),\"checkpoint.pt\")\n",
        "        elif best_val_loss<val_score:     # patience counter\n",
        "          patience_counter+=1\n",
        "          print(\"Earlystopping Patience Counter\",patience_counter)\n",
        "          if patience_counter==patience:           \n",
        "            break\n",
        "        else:\n",
        "          best_val_loss=val_score\n",
        "          torch.save(model.state_dict(),\"checkpoint.pt\")        # keeps the best model\n",
        "          patience_counter=0        # reset patience after we get the best model\n",
        "\n",
        "        lastStop=epoch+1\n",
        "        #print(f\"Validation accuracy after epoch {epoch+1}: {val_acc:.4f}\")\n",
        "    \n",
        "        print(f\"Epoch [{epoch+1}/{num_epochs}], Train Loss: {train_loss:.4f}, Train Acc: {train_acc:.2f}, Val Loss: {val_loss:.4f}, Val Acc: {val_acc:.4f}\")"
      ],
      "metadata": {
        "id": "MYJi8Mjn2qZr",
        "colab": {
          "base_uri": "https://localhost:8080/"
        },
        "outputId": "512431a3-0880-4510-d4fa-cb65bb8f3d0f"
      },
      "execution_count": null,
      "outputs": [
        {
          "output_type": "stream",
          "name": "stdout",
          "text": [
            "Epoch [1/50], Train Loss: 0.6161, Train Acc: 71.01, Val Loss: 0.5445, Val Acc: 0.8408\n",
            "Epoch [2/50], Train Loss: 0.5353, Train Acc: 82.19, Val Loss: 0.4936, Val Acc: 0.8567\n",
            "Epoch [3/50], Train Loss: 0.4993, Train Acc: 84.50, Val Loss: 0.4651, Val Acc: 0.8758\n",
            "Epoch [4/50], Train Loss: 0.4778, Train Acc: 85.78, Val Loss: 0.4603, Val Acc: 0.8758\n",
            "Epoch [5/50], Train Loss: 0.4618, Train Acc: 86.74, Val Loss: 0.4309, Val Acc: 0.9172\n",
            "Earlystopping Patience Counter 1\n",
            "Epoch [6/50], Train Loss: 0.4527, Train Acc: 88.10, Val Loss: 0.4339, Val Acc: 0.8854\n",
            "Epoch [7/50], Train Loss: 0.4474, Train Acc: 88.42, Val Loss: 0.4143, Val Acc: 0.9331\n",
            "Epoch [8/50], Train Loss: 0.4405, Train Acc: 88.74, Val Loss: 0.4092, Val Acc: 0.9268\n",
            "Earlystopping Patience Counter 1\n",
            "Epoch [9/50], Train Loss: 0.4327, Train Acc: 89.14, Val Loss: 0.4114, Val Acc: 0.8949\n",
            "Epoch [10/50], Train Loss: 0.4298, Train Acc: 89.22, Val Loss: 0.3991, Val Acc: 0.9299\n",
            "Earlystopping Patience Counter 1\n",
            "Epoch [11/50], Train Loss: 0.4276, Train Acc: 89.14, Val Loss: 0.4169, Val Acc: 0.8917\n",
            "Earlystopping Patience Counter 2\n",
            "Epoch [12/50], Train Loss: 0.4238, Train Acc: 89.78, Val Loss: 0.3993, Val Acc: 0.9204\n",
            "Earlystopping Patience Counter 3\n",
            "Epoch [13/50], Train Loss: 0.4211, Train Acc: 90.10, Val Loss: 0.4755, Val Acc: 0.8153\n",
            "Epoch [14/50], Train Loss: 0.4186, Train Acc: 90.50, Val Loss: 0.3924, Val Acc: 0.9299\n",
            "Earlystopping Patience Counter 1\n",
            "Epoch [15/50], Train Loss: 0.4137, Train Acc: 90.50, Val Loss: 0.3962, Val Acc: 0.9331\n",
            "Epoch [16/50], Train Loss: 0.4106, Train Acc: 90.97, Val Loss: 0.3895, Val Acc: 0.9395\n",
            "Epoch [17/50], Train Loss: 0.4088, Train Acc: 90.73, Val Loss: 0.3866, Val Acc: 0.9363\n",
            "Epoch [18/50], Train Loss: 0.4077, Train Acc: 90.89, Val Loss: 0.3866, Val Acc: 0.9331\n",
            "Epoch [19/50], Train Loss: 0.4045, Train Acc: 91.53, Val Loss: 0.3825, Val Acc: 0.9395\n",
            "Earlystopping Patience Counter 1\n",
            "Epoch [20/50], Train Loss: 0.4023, Train Acc: 92.01, Val Loss: 0.4214, Val Acc: 0.8949\n",
            "Earlystopping Patience Counter 2\n",
            "Epoch [21/50], Train Loss: 0.4033, Train Acc: 91.13, Val Loss: 0.3828, Val Acc: 0.9395\n",
            "Earlystopping Patience Counter 3\n",
            "Epoch [22/50], Train Loss: 0.4000, Train Acc: 91.69, Val Loss: 0.3837, Val Acc: 0.9331\n",
            "Earlystopping Patience Counter 4\n",
            "Epoch [23/50], Train Loss: 0.3968, Train Acc: 92.25, Val Loss: 0.3930, Val Acc: 0.9299\n",
            "Earlystopping Patience Counter 5\n"
          ]
        }
      ]
    },
    {
      "cell_type": "code",
      "source": [
        "total, correct, lastStop, num_epochs"
      ],
      "metadata": {
        "colab": {
          "base_uri": "https://localhost:8080/"
        },
        "id": "Yb26SkLEr_BL",
        "outputId": "a3caf26d-8a11-4cdd-9cd7-ea4170d558a3"
      },
      "execution_count": null,
      "outputs": [
        {
          "output_type": "execute_result",
          "data": {
            "text/plain": [
              "(314, 292, 23, 50)"
            ]
          },
          "metadata": {},
          "execution_count": 14
        }
      ]
    },
    {
      "cell_type": "code",
      "source": [
        "from sklearn.metrics import accuracy_score, precision_score, f1_score, recall_score\n",
        "\n",
        "newModel = MLP(input_size, hidden_size1, hidden_size2, output_size).to(device)\n",
        "\n",
        "# define best model path\n",
        "model_path = '/content/checkpoint.pt'\n",
        "\n",
        "# upload best model\n",
        "newModel.load_state_dict(torch.load(model_path))\n",
        "\n",
        "# Set the model in evaluation mode\n",
        "newModel.eval()\n",
        "\n",
        "# Loop over the test set and make predictions\n",
        "with torch.no_grad():\n",
        "    true_labels = []\n",
        "    predicted_labels = []\n",
        "    for inputs, labels in test_loader:\n",
        "        inputs = inputs.to(device)\n",
        "        labels = labels.to(device)\n",
        "        outputs = newModel(inputs)\n",
        "        _, predicted = torch.max(outputs.data, 1)\n",
        "        true_labels += labels.cpu().numpy().tolist()\n",
        "        predicted_labels += predicted.cpu().numpy().tolist()\n",
        "\n",
        "# Calculate performance metrics\n",
        "accuracy = accuracy_score(true_labels, predicted_labels)\n",
        "precision = precision_score(true_labels, predicted_labels)\n",
        "recall = recall_score(true_labels, predicted_labels)\n",
        "f1 = f1_score(true_labels, predicted_labels)\n",
        "\n",
        "print(f\"Test Accuracy: {accuracy:.4f}\")\n",
        "print(f\"Precision: {precision:.4f}\")\n",
        "print(f\"Recall: {recall:.4f}\")\n",
        "print(f\"F1 Score: {f1:.4f}\")"
      ],
      "metadata": {
        "id": "a0p74Gw0Apbc",
        "colab": {
          "base_uri": "https://localhost:8080/"
        },
        "outputId": "185e2c75-340a-44bc-e0ce-5640b0f95746"
      },
      "execution_count": null,
      "outputs": [
        {
          "output_type": "stream",
          "name": "stdout",
          "text": [
            "Test Accuracy: 0.9145\n",
            "Precision: 0.9086\n",
            "Recall: 0.9227\n",
            "F1 Score: 0.9156\n"
          ]
        }
      ]
    },
    {
      "cell_type": "code",
      "source": [
        "from sklearn.metrics import accuracy_score, precision_score, f1_score, recall_score\n",
        "\n",
        "# Set the model in evaluation mode\n",
        "model.eval()\n",
        "\n",
        "# Loop over the test set and make predictions\n",
        "with torch.no_grad():\n",
        "    true_labels = []\n",
        "    predicted_labels = []\n",
        "    for inputs, labels in test_loader:\n",
        "        inputs = inputs.to(device)\n",
        "        labels = labels.to(device)\n",
        "        outputs = model(inputs)\n",
        "        _, predicted = torch.max(outputs.data, 1)\n",
        "        true_labels += labels.cpu().numpy().tolist()\n",
        "        predicted_labels += predicted.cpu().numpy().tolist()\n",
        "\n",
        "# Calculate performance metrics\n",
        "accuracy = accuracy_score(true_labels, predicted_labels)\n",
        "precision = precision_score(true_labels, predicted_labels)\n",
        "recall = recall_score(true_labels, predicted_labels)\n",
        "f1 = f1_score(true_labels, predicted_labels)\n",
        "\n",
        "print(f\"Test Accuracy: {accuracy:.4f}\")\n",
        "print(f\"Precision: {precision:.4f}\")\n",
        "print(f\"Recall: {recall:.4f}\")\n",
        "print(f\"F1 Score: {f1:.4f}\")"
      ],
      "metadata": {
        "colab": {
          "base_uri": "https://localhost:8080/"
        },
        "id": "kZ6tLxwELl90",
        "outputId": "98763880-af2b-43e3-ce59-4755ca5773e6"
      },
      "execution_count": null,
      "outputs": [
        {
          "output_type": "stream",
          "name": "stdout",
          "text": [
            "Test Accuracy: 0.9093\n",
            "Precision: 0.9569\n",
            "Recall: 0.8582\n",
            "F1 Score: 0.9049\n"
          ]
        }
      ]
    },
    {
      "cell_type": "code",
      "source": [
        "test_dataset[5]       #tensor(x) x, 0 veya 1 olacak, burada tensor 1 geldi."
      ],
      "metadata": {
        "colab": {
          "base_uri": "https://localhost:8080/"
        },
        "id": "lZRzm4szKXLa",
        "outputId": "9f10315c-9a81-4c8e-f000-588ce1af5ed0"
      },
      "execution_count": null,
      "outputs": [
        {
          "output_type": "execute_result",
          "data": {
            "text/plain": [
              "(tensor([15.7000, 17.5000, 14.4000, 12.2000, 11.9000,  4.2000,  1.7000,  6.4000,\n",
              "         20.9000, 12.5000, 21.1000, 15.6000, 12.4000]),\n",
              " tensor(1))"
            ]
          },
          "metadata": {},
          "execution_count": 17
        }
      ]
    },
    {
      "cell_type": "code",
      "source": [
        "outputs = model(test_dataset[5][0])         #(0,1) tensor değerine göre label1 indeğeri label0 ın değerinden büyük olduğu için modelimiz doğru çalışıyor.\n",
        "outputs"
      ],
      "metadata": {
        "colab": {
          "base_uri": "https://localhost:8080/"
        },
        "id": "H_lSpeiXJUOu",
        "outputId": "9cf6da05-ee05-43a9-eb95-b0faea80299a"
      },
      "execution_count": null,
      "outputs": [
        {
          "output_type": "execute_result",
          "data": {
            "text/plain": [
              "tensor([0.2638, 0.6852], grad_fn=<SigmoidBackward0>)"
            ]
          },
          "metadata": {},
          "execution_count": 18
        }
      ]
    },
    {
      "cell_type": "markdown",
      "source": [
        "```\n",
        "plt.plot(x, y, color='color', linestyle='linestyle', label='label')\n",
        "```\n",
        "\n",
        "Burada, x ve y veri dizileri, çizgi grafiğin x ve y eksenindeki değerleridir. color parametresi, çizgi rengini belirler. Örneğin, 'red' (kırmızı), 'blue' (mavi), 'green' (yeşil) gibi renk adları veya 'r', 'b', 'g' gibi kısa renk kodları kullanabilirsiniz. linestyle parametresi, çizgi stilini belirler. Örneğin, '-' (sürekli çizgi), '--' (kesik çizgi), ':' (noktalı çizgi), '-.' (noktalı kesik çizgi) gibi stil kodları kullanabilirsiniz. label parametresi, çizgi için bir etiket belirler."
      ],
      "metadata": {
        "id": "IJwh6-S2_uJy"
      }
    },
    {
      "cell_type": "code",
      "source": [
        "import matplotlib.pyplot as plt\n",
        "\n",
        "num_epochs = lastStop + 1\n",
        "#num_epochs = 50\n",
        "#learning rate değiştiğinde num_epoch a +1 ekle\n",
        "\n",
        "# Create the training loss plot\n",
        "plt.plot(range(1, num_epochs+1), train_loss_list, color='red', linestyle='dashed', label=\"Train Loss\")\n",
        "\n",
        "# Create the validation loss plot\n",
        "plt.plot(range(1, num_epochs+1), validation_loss_list, color='blue', linestyle='dashed', label=\"Validation Loss\")\n",
        "\n",
        "plt.xlabel('Epoch')\n",
        "plt.ylabel('Loss')\n",
        "plt.title('Train and Validation Loss over Epochs')\n",
        "plt.legend()  # Show the labels\n",
        "plt.show()\n"
      ],
      "metadata": {
        "colab": {
          "base_uri": "https://localhost:8080/",
          "height": 472
        },
        "id": "oMaNgKKD8J3R",
        "outputId": "576090af-6bfd-43bd-eed7-1e6c4ecb7524"
      },
      "execution_count": null,
      "outputs": [
        {
          "output_type": "display_data",
          "data": {
            "text/plain": [
              "<Figure size 640x480 with 1 Axes>"
            ],
            "image/png": "[encoded data removed]"
          },
          "metadata": {}
        }
      ]
    },
    {
      "cell_type": "code",
      "source": [
        "# Get the current date and time\n",
        "lastNow = datetime.datetime.now()\n",
        "\n",
        "# Print the results to the screen\n",
        "print(f\"Code execution time: {device} \", lastNow-firstNow)\n",
        "\n",
        "#Code execution time: cuda  0:00:10.617068"
      ],
      "metadata": {
        "colab": {
          "base_uri": "https://localhost:8080/"
        },
        "id": "z705TACF5NO8",
        "outputId": "e5594cff-aeaf-491e-ab1d-e6e3270cee4b"
      },
      "execution_count": null,
      "outputs": [
        {
          "output_type": "stream",
          "name": "stdout",
          "text": [
            "Code execution time: cpu  0:02:51.144148\n"
          ]
        }
      ]
    }
  ]
}