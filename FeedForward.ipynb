{
  "nbformat": 4,
  "nbformat_minor": 0,
  "metadata": {
    "colab": {
      "provenance": []
    },
    "kernelspec": {
      "name": "python3",
      "display_name": "Python 3"
    },
    "language_info": {
      "name": "python"
    }
  },
  "cells": [
    {
      "cell_type": "code",
      "execution_count": 1,
      "metadata": {
        "id": "fYGu_ZuYx_y9"
      },
      "outputs": [],
      "source": [
        "import torch\n",
        "import torch.nn as nn"
      ]
    },
    {
      "cell_type": "code",
      "source": [
        "X = torch.tensor([[1, 2, 3], [4, 5, 6]], dtype=torch.float)\n",
        "# A tensor named X is created\n",
        "# It represents a matrix with two rows and three columns\n",
        "# Each element is represented with floating-point numbers"
      ],
      "metadata": {
        "id": "ecqeHksBykwW"
      },
      "execution_count": 2,
      "outputs": []
    },
    {
      "cell_type": "code",
      "source": [
        "X # Check tensor"
      ],
      "metadata": {
        "colab": {
          "base_uri": "https://localhost:8080/"
        },
        "id": "rHHjZjzsQehW",
        "outputId": "7bc0541a-4a2a-4eee-cdf5-1d91c9e4b5e0"
      },
      "execution_count": 3,
      "outputs": [
        {
          "output_type": "execute_result",
          "data": {
            "text/plain": [
              "tensor([[1., 2., 3.],\n",
              "        [4., 5., 6.]])"
            ]
          },
          "metadata": {},
          "execution_count": 3
        }
      ]
    },
    {
      "cell_type": "code",
      "source": [
        "class Net(nn.Module):\n",
        "    def __init__(self):\n",
        "        super(Net, self).__init__()\n",
        "        self.hidden = nn.Linear(3, 50)  # Creates a linear layer with input size 3 and output size 50\n",
        "        self.output = nn.Linear(50, 1)  # Creates a linear layer with input size 50 and output size 1\n",
        "        self.tanh = nn.Tanh()  # Creates a Tanh activation function layer that applies Tanh activation function to inputs\n",
        "        self.sigmoid = nn.Sigmoid()  # Creates a Sigmoid activation function layer that applies Sigmoid activation function to inputs\n",
        "\n",
        "    def tanh(self, x):\n",
        "        return (torch.exp(x) - torch.exp(-x)) / (torch.exp(x) + torch.exp(-x))  # Computes the Tanh activation function\n",
        "\n",
        "    def sigmoid(self, x):\n",
        "        return 1 / (1 + torch.exp(-x))  # Computes the Sigmoid activation function\n",
        "\n",
        "    def forward(self, x):\n",
        "        x = self.tanh(self.hidden(x))  # Applies Tanh activation function to inputs and applies the hidden layer\n",
        "        x = self.sigmoid(self.output(x))  # Applies Sigmoid activation function to inputs and applies the output layer\n",
        "\n",
        "        return x  # Returns the output\n"
      ],
      "metadata": {
        "id": "BNVkYeG6yKWW"
      },
      "execution_count": 4,
      "outputs": []
    },
    {
      "cell_type": "code",
      "source": [
        "torch.manual_seed(1)  # Sets the random seed of the torch module to 1 for reproducibility\n",
        "net = Net()  # Creates an instance of the 'Net' class called 'net'\n",
        "output = net(X)  # Computes an output ('output') using the 'net' object with input 'X'\n",
        "print(output)  "
      ],
      "metadata": {
        "colab": {
          "base_uri": "https://localhost:8080/"
        },
        "id": "nzDwSzufyOuz",
        "outputId": "7625856e-4801-48a6-a9a2-e77f1b6122b4"
      },
      "execution_count": 5,
      "outputs": [
        {
          "output_type": "stream",
          "name": "stdout",
          "text": [
            "tensor([[0.4892],\n",
            "        [0.5566]], grad_fn=<MulBackward0>)\n"
          ]
        }
      ]
    },
    {
      "cell_type": "code",
      "source": [
        "torch.manual_seed(190401008)  # Setting the random seed of the torch module to my student ID\n",
        "net = Net()\n",
        "output = net(X)\n",
        "print(output)"
      ],
      "metadata": {
        "colab": {
          "base_uri": "https://localhost:8080/"
        },
        "id": "pBMgI97s0AYv",
        "outputId": "447eb45b-3679-4c7c-a1ed-18b00908cd6e"
      },
      "execution_count": 6,
      "outputs": [
        {
          "output_type": "stream",
          "name": "stdout",
          "text": [
            "tensor([[0.4929],\n",
            "        [0.5002]], grad_fn=<MulBackward0>)\n"
          ]
        }
      ]
    }
  ]
}